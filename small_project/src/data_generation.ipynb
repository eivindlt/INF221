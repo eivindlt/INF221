{
 "cells": [
  {
   "cell_type": "markdown",
   "metadata": {},
   "source": [
    "## Data generation\n",
    "- Expect running times of up to 30 seconds for size 25 and factor 2, depending on your setup.\n",
    "- Generates three different files. Each containing lists of increasing lengt 2^i.\n",
    "    - The b_c.csv file contains sorted lists ascending representing the best case scenario.\n",
    "    - The w_c.csv file contains sorted lists decending representing the worst case scenario.\n",
    "    - The a_c.csv file contains randomised lists representing the average case scenario.\n",
    "- The files can be found under data folder.\n"
   ]
  },
  {
   "cell_type": "code",
   "execution_count": 32,
   "metadata": {},
   "outputs": [],
   "source": [
    "import numpy as np\n",
    "\n",
    "factor = 2 #The factor that will be raised \n",
    "size = 25\n",
    "\n",
    "#Clear the files\n",
    "open('..data/b_c.csv', 'w').close()\n",
    "open('..data/w_c.csv', 'w').close()\n",
    "open('..data/a_c.csv', 'w').close()\n",
    "\n",
    "\n",
    "for i in range(1, size):                #The number of arrays will be equal to the size\n",
    "    length = factor**i                  #The size of the array will be 2^i\n",
    "    b_c = np.arange(length)             #Creating sorted array\n",
    "    w_c = b_c[::-1]                     #Creating reverse sorted array\n",
    "    a_c = np.random.permutation(b_c)    #Creating random array, representing the average case\n",
    "\n",
    "    #Writing the arrays to the different files\n",
    "    with open('../data/b_c.csv', 'ab') as f:\n",
    "        np.savetxt(f, b_c.reshape(1, b_c.shape[0]), delimiter=',', fmt='%d', newline='\\n', comments='')\n",
    "\n",
    "    with open('../data/w_c.csv', 'ab') as f:\n",
    "        np.savetxt(f, w_c.reshape(1, w_c.shape[0]), delimiter=',', fmt='%d', newline='\\n', comments='')\n",
    "\n",
    "    with open('../data/a_c.csv', 'ab') as f:\n",
    "        np.savetxt(f, a_c.reshape(1, a_c.shape[0]), delimiter=',', fmt='%d', newline='\\n', comments='')"
   ]
  }
 ],
 "metadata": {
  "kernelspec": {
   "display_name": "venv",
   "language": "python",
   "name": "python3"
  },
  "language_info": {
   "codemirror_mode": {
    "name": "ipython",
    "version": 3
   },
   "file_extension": ".py",
   "mimetype": "text/x-python",
   "name": "python",
   "nbconvert_exporter": "python",
   "pygments_lexer": "ipython3",
   "version": "3.10.12"
  }
 },
 "nbformat": 4,
 "nbformat_minor": 2
}
